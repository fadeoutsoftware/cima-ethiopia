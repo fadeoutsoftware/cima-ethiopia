{
 "cells": [
  {
   "cell_type": "markdown",
   "id": "05274afc",
   "metadata": {},
   "source": [
    "# 🐍 Python for Hydrology\n",
    "<br>\n",
    "<img style=\"float: left; padding-right: 15px; padding-left: 0px;\" src=\"../sources/images/logo_continuum.png\" width=\"260px\" align=”left” >\n",
    "\n",
    "<div style=\"text-align: justify\">This is a Jupyter Notebook, a web-based interactive development environment that allows to create and share python codes. \n",
    "    \n",
    "First things first, what is **Python**? Python is an high-level and general-purpose programming language. It can be used to write software in a wide variety of application domains, including hydrology. Python can be used to perform numerical calculations, statistical analyses or to access and plot data (even large datasets).\n",
    "\n",
    "    \n",
    "In Jupyter Notebook the *Python shell* is embedded. The shell is where you can write and execute a line (or multiple lines) of code. Python is open-source, and several packages are available covering many scientific and technological fields.\n",
    "\n"
   ]
  },
  {
   "cell_type": "markdown",
   "id": "9ac1abff",
   "metadata": {},
   "source": [
    "## 👣 First steps\n",
    "\n",
    "Let's start using Python as a calculator:"
   ]
  },
  {
   "cell_type": "code",
   "execution_count": 1,
   "id": "b4f73c3a",
   "metadata": {},
   "outputs": [
    {
     "data": {
      "text/plain": [
       "63.333333333333336"
      ]
     },
     "execution_count": 1,
     "metadata": {},
     "output_type": "execute_result"
    }
   ],
   "source": [
    "# Set the name of the settings file\n",
    "190/3"
   ]
  },
  {
   "cell_type": "markdown",
   "id": "bac5a851",
   "metadata": {},
   "source": [
    "If needed we can assign this result to a variable, and use the variable for further math or for other operations (such as converting to integer and priting it)."
   ]
  },
  {
   "cell_type": "code",
   "execution_count": 2,
   "id": "cd31159b",
   "metadata": {},
   "outputs": [
    {
     "name": "stdout",
     "output_type": "stream",
     "text": [
      "49\n"
     ]
    }
   ],
   "source": [
    "result = 190/3\n",
    "new_result = result - 14\n",
    "int_result = int(new_result)\n",
    "print(int(int_result))"
   ]
  },
  {
   "cell_type": "markdown",
   "id": "829b573b",
   "metadata": {},
   "source": [
    "What if we want to perform some more complex calculus? \n",
    "\n",
    "Python has several **libraries** suitable for different task. Each library require the **import** .\n",
    "We can for example import the math package, loading several mathematical functions (such as the square root)\n",
    "\n"
   ]
  },
  {
   "cell_type": "code",
   "execution_count": 3,
   "id": "8986932c",
   "metadata": {},
   "outputs": [
    {
     "name": "stdout",
     "output_type": "stream",
     "text": [
      "7.0\n"
     ]
    }
   ],
   "source": [
    "import math\n",
    "\n",
    "sqrt_result = math.sqrt(int_result)\n",
    "print(sqrt_result)"
   ]
  },
  {
   "cell_type": "markdown",
   "id": "b2c310b1",
   "metadata": {},
   "source": [
    "What if we want to work not with a single value, but with a **vector** composed of multiple values?"
   ]
  },
  {
   "cell_type": "code",
   "execution_count": 4,
   "id": "2cd63733",
   "metadata": {},
   "outputs": [
    {
     "name": "stdout",
     "output_type": "stream",
     "text": [
      "[0.34884801 0.53152922 0.56801304 0.2116662  0.74897815]\n"
     ]
    }
   ],
   "source": [
    "import numpy as np\n",
    "\n",
    "array = np.random.rand(5)\n",
    "print(array)"
   ]
  },
  {
   "cell_type": "markdown",
   "id": "39388fb4",
   "metadata": {},
   "source": [
    "Slicing vectors start from 0..."
   ]
  },
  {
   "cell_type": "code",
   "execution_count": 5,
   "id": "c34a75e7",
   "metadata": {},
   "outputs": [],
   "source": [
    "first_value = array[0]"
   ]
  },
  {
   "cell_type": "markdown",
   "id": "a4be46ad",
   "metadata": {},
   "source": [
    "We can do operation on vectors"
   ]
  },
  {
   "cell_type": "code",
   "execution_count": 6,
   "id": "6bd844d4",
   "metadata": {},
   "outputs": [
    {
     "name": "stdout",
     "output_type": "stream",
     "text": [
      "[1, 4, 100, 3, -2]\n",
      "------> complete array maximum: 100\n",
      "[1, 4, nan, 3, -2]\n",
      "------> incomplete array maximum: nan\n"
     ]
    }
   ],
   "source": [
    "array = [1,4,100,3,-2]\n",
    "print(array)\n",
    "print('------> complete array maximum: ' + str(np.max(array)))\n",
    "\n",
    "array_nan = array\n",
    "array_nan[2] = np.nan\n",
    "print(array_nan)\n",
    "print('------> incomplete array maximum: ' + str(np.max(array)))"
   ]
  },
  {
   "cell_type": "markdown",
   "id": "dd6c05f4",
   "metadata": {},
   "source": [
    "Is the last result correct? Shouldn't be 4 the new maximum value? We can use a specific function for accounting for \"nan\" or missing values: np.nanmax (part of numpy package)"
   ]
  },
  {
   "cell_type": "code",
   "execution_count": 7,
   "id": "e8775195",
   "metadata": {},
   "outputs": [
    {
     "name": "stdout",
     "output_type": "stream",
     "text": [
      "------> incomplete array maximum: 4.0\n"
     ]
    }
   ],
   "source": [
    "print('------> incomplete array maximum: ' + str(np.nanmax(array)))"
   ]
  },
  {
   "cell_type": "markdown",
   "id": "19ea849f",
   "metadata": {},
   "source": [
    "---"
   ]
  },
  {
   "cell_type": "markdown",
   "id": "27b9dc27",
   "metadata": {},
   "source": [
    "## 📈 Dealing with timeseries"
   ]
  },
  {
   "cell_type": "markdown",
   "id": "7cba751f",
   "metadata": {},
   "source": [
    "Can we generate timeseries (multiple values with associated date) and plot it? Of course! Let's start by importing some useful libraries!"
   ]
  },
  {
   "cell_type": "code",
   "execution_count": 8,
   "id": "bb89d937",
   "metadata": {},
   "outputs": [],
   "source": [
    "import pandas as pd\n",
    "import matplotlib.pyplot as plt\n",
    "import ipywidgets as widgets\n",
    "from urllib.request import urlopen, Request\n",
    "import os\n",
    "\n",
    "# We can also define personal function, this one for example allow to visualize the output of dropdowns menus\n",
    "def on_change(change):\n",
    "        if change['type'] == 'change' and change['name'] == 'value':\n",
    "            print(\"Selected value: \" + change['new'])"
   ]
  },
  {
   "cell_type": "markdown",
   "id": "7d9b7e05",
   "metadata": {},
   "source": [
    "We can now proceed with a random timeseries!"
   ]
  },
  {
   "cell_type": "code",
   "execution_count": 9,
   "id": "93842c79",
   "metadata": {},
   "outputs": [
    {
     "data": {
      "text/plain": [
       "<matplotlib.legend.Legend at 0x70fcbd4721c0>"
      ]
     },
     "execution_count": 9,
     "metadata": {},
     "output_type": "execute_result"
    },
    {
     "data": {
      "image/png": "[encoded data removed]",
      "text/plain": [
       "<Figure size 640x480 with 1 Axes>"
      ]
     },
     "metadata": {},
     "output_type": "display_data"
    }
   ],
   "source": [
    "ts = pd.Series(np.random.randn(365), index=pd.date_range('1/1/2010', periods=365))\n",
    "plt.figure()\n",
    "ts.plot(style='b-', label='Random timeseries')\n",
    "plt.legend()"
   ]
  },
  {
   "cell_type": "markdown",
   "id": "01af7118",
   "metadata": {},
   "source": [
    "Most interesting is to work with existing timeseries. The NOAA provides a global dataset of daily rainfall and temperature values, the **Global Historical Climate Network Daily** (https://www.ncdc.noaa.gov/ghcn-daily-description).\n",
    "The dataset can be queried by country by selecting it from the following dropdown menu."
   ]
  },
  {
   "cell_type": "code",
   "execution_count": 10,
   "id": "c866db4e",
   "metadata": {},
   "outputs": [
    {
     "data": {
      "application/vnd.jupyter.widget-view+json": {
       "model_id": "ae113d6b494d44adb26ab462ccfdf187",
       "version_major": 2,
       "version_minor": 0
      },
      "text/plain": [
       "Dropdown(description='Country:', options=('Choose a country', 'AC Antigua and Barbuda \\n', 'AE United Arab Emi…"
      ]
     },
     "metadata": {},
     "output_type": "display_data"
    },
    {
     "name": "stdout",
     "output_type": "stream",
     "text": [
      "Selected value: ET Ethiopia \n",
      "\n"
     ]
    }
   ],
   "source": [
    "# Load list of available countries and generate dropdown selector\n",
    "with open('../sources/datasets/ghcnd/ghcnd-countries.txt', 'r') as file:\n",
    "    list_country = [line for line in file]\n",
    "country_chooser = widgets.Dropdown(\n",
    "    options=['Choose a country'] + list_country,\n",
    "    value='Choose a country',\n",
    "    description='Country:',\n",
    "    disabled=False,\n",
    ")\n",
    "country_chooser.observe(on_change)\n",
    "display(country_chooser)"
   ]
  },
  {
   "cell_type": "markdown",
   "id": "f0e7714b",
   "metadata": {},
   "source": [
    "By executing the next piece of code a dropdown menu of the available station for the selected country will be show. Please, select the station of interest. \n",
    "**NB!** Some countries (Brazil, Australia and US) have too many station and can break the system, for those countries manual selection of the station is feasible!\n",
    "\n"
   ]
  },
  {
   "cell_type": "code",
   "execution_count": 12,
   "id": "e6a6e99c",
   "metadata": {},
   "outputs": [
    {
     "data": {
      "application/vnd.jupyter.widget-view+json": {
       "model_id": "340ef6e6c718445697e0c2191a1c97fd",
       "version_major": 2,
       "version_minor": 0
      },
      "text/plain": [
       "Dropdown(description='Station:', options=('Choose a station', 'ET000063450 ADDIS ABABA-BOLE', 'ET000063500 ARB…"
      ]
     },
     "metadata": {},
     "output_type": "display_data"
    },
    {
     "name": "stdout",
     "output_type": "stream",
     "text": [
      "Selected value: ET000063332 BAHAR DAR\n"
     ]
    }
   ],
   "source": [
    "# Generate the list of the available stations\n",
    "country_code = country_chooser.value[0:2]\n",
    "list_stations = pd.read_fwf('../sources/datasets/ghcnd/ghcnd-stations.txt',\n",
    "                            widths=[2,9,9,10,7,4,31,3,10],\n",
    "                            header=None, usecols=[0,1,2,3,4,6], \n",
    "                            names=['COUNTRY','CODE','LAT','LON','ELEV','NAME'])\n",
    "list_stations_in = list_stations.loc[list_stations['COUNTRY']==country_code].sort_values('NAME', ascending=True)\n",
    "\n",
    "if len(list_stations_in)<4000:\n",
    "    station_chooser = widgets.Dropdown(\n",
    "        options=['Choose a station'] + list(list_stations_in['COUNTRY'] + list_stations_in['CODE'] + ' ' + list_stations_in['NAME']),\n",
    "        value='Choose a station',\n",
    "        description='Station:',\n",
    "        disabled=False,\n",
    "    )\n",
    "    station_chooser.observe(on_change)\n",
    "    display(station_chooser)\n",
    "else:\n",
    "    print('Station list is too long! Please, manually choose the station code from the available list at the web address https://www1.ncdc.noaa.gov/pub/data/ghcn/daily/ghcnd-stations.txt among the ones with first column starting with ' + country_code)"
   ]
  },
  {
   "cell_type": "markdown",
   "id": "72d03384",
   "metadata": {},
   "source": [
    "The next piece of code will download the series from the noaa series and analyse the available variables. \n",
    "\n",
    "The output path can be specified. **WARNING!** The ../ refer to the root exercise folder."
   ]
  },
  {
   "cell_type": "code",
   "execution_count": 23,
   "id": "59a5d05d",
   "metadata": {},
   "outputs": [
    {
     "name": "stdout",
     "output_type": "stream",
     "text": [
      "Dowloading section ET000063332 BAHAR DAR... It can take some times!\n",
      "DONE, saved to ../exercise/intro/meteo/ET000063332.csv\n"
     ]
    }
   ],
   "source": [
    "# Specify the output path\n",
    "output_path = \"../exercise/intro\"\n",
    "\n",
    "# Insert information only for manually selecting the station code (for Brazil, Austalia and US)\n",
    "section_code =  None     # es: 'BR00B7-0400'\n",
    "section_name = None      # es: 'SAO JOAO DE IRACEMA'\n",
    "###############################################################################################\n",
    "if section_code is None:\n",
    "    section_code = station_chooser.value.split(' ', 1)[0]\n",
    "    section_name = station_chooser.value.split(' ', 1)[1]\n",
    "file_name = section_code +'.csv'\n",
    "out_path = output_path + '/meteo/' + file_name\n",
    "os.makedirs(os.path.dirname(out_path), exist_ok = True)\n",
    "\n",
    "# Check if the file has been already downloaded\n",
    "if os.path.isfile(out_path):\n",
    "    print('Section ' + section_code + ' ' + section_name + ' already downloaded!')\n",
    "    print('DONE!')\n",
    "else:\n",
    "    print('Dowloading section ' + section_code + ' ' + section_name + '... It can take some times!')\n",
    "    https_address = 'https://www.ncei.noaa.gov/data/global-historical-climatology-network-daily/access/'\n",
    "    #wget.download(https_address + file_name, out = out_path)\n",
    "    #cmd = f\"wget \\\"{https_address + file_name}\\\" -O \\\"{out_path}\\\"\"\n",
    "    #os.system(cmd)\n",
    "    url = https_address + file_name\n",
    "    req = Request(url)\n",
    "    with urlopen(req) as resp, open(out_path, \"wb\") as out_file:\n",
    "        out_file.write(resp.read())\n",
    "    \n",
    "    print('DONE, saved to ' + out_path)"
   ]
  },
  {
   "cell_type": "markdown",
   "id": "1cb667b1",
   "metadata": {},
   "source": [
    "Choose the variable for the analysis from the dropdown menu:"
   ]
  },
  {
   "cell_type": "code",
   "execution_count": 24,
   "id": "a28accd8",
   "metadata": {},
   "outputs": [
    {
     "data": {
      "application/vnd.jupyter.widget-view+json": {
       "model_id": "99322a48d2614926894f6bdfedd6f39c",
       "version_major": 2,
       "version_minor": 0
      },
      "text/plain": [
       "Dropdown(description='Vars available:', options=('Choose a variable', 'precipitation', 'temperature max', 'tem…"
      ]
     },
     "metadata": {},
     "output_type": "display_data"
    },
    {
     "name": "stdout",
     "output_type": "stream",
     "text": [
      "Selected value: precipitation\n"
     ]
    }
   ],
   "source": [
    "# Open the file and analyse the available variables\n",
    "info_station = pd.read_csv(out_path, header=0, usecols=['STATION','NAME','LATITUDE','LONGITUDE','ELEVATION'], nrows=1)\n",
    "full_series = pd.read_csv(out_path, header=0, index_col='DATE', parse_dates=True, usecols=lambda c: c in {'DATE','PRCP','SNWD','TMAX','TMIN','TAVG'}) #, usecols=[1,2,3], names=['date','type','val'])\n",
    "dic_vars={'precipitation':['PRCP', 'Rainfall(mm)'], 'temperature mean':['TAVG','Temperature(°C)'], 'temperature max':['TMAX','Temperature(°C)'], 'temperature min':['TMIN','Temperature(°C)'], 'snow depth':['SNWD', 'Snow depth(cm)']}\n",
    "\n",
    "available_vars = [i for i in dic_vars if dic_vars[i][0] in full_series.columns]\n",
    "\n",
    "var_chooser = widgets.Dropdown(\n",
    "    options=['Choose a variable'] + available_vars,\n",
    "    value='Choose a variable',\n",
    "    description='Vars available:',\n",
    "    disabled=False,\n",
    ")\n",
    "\n",
    "var_chooser.observe(on_change)\n",
    "display(var_chooser)"
   ]
  },
  {
   "cell_type": "markdown",
   "id": "39eccff1",
   "metadata": {},
   "source": [
    "Now we can interactively plot one of the available timeseries by choosing the station, the variable and also the time limits:\n",
    "\n"
   ]
  },
  {
   "cell_type": "code",
   "execution_count": 26,
   "id": "fb9d3103",
   "metadata": {},
   "outputs": [
    {
     "data": {
      "text/html": [
       "<div>\n",
       "<style scoped>\n",
       "    .dataframe tbody tr th:only-of-type {\n",
       "        vertical-align: middle;\n",
       "    }\n",
       "\n",
       "    .dataframe tbody tr th {\n",
       "        vertical-align: top;\n",
       "    }\n",
       "\n",
       "    .dataframe thead th {\n",
       "        text-align: right;\n",
       "    }\n",
       "</style>\n",
       "<table border=\"1\" class=\"dataframe\">\n",
       "  <thead>\n",
       "    <tr style=\"text-align: right;\">\n",
       "      <th></th>\n",
       "      <th>PRCP</th>\n",
       "    </tr>\n",
       "  </thead>\n",
       "  <tbody>\n",
       "    <tr>\n",
       "      <th>1985-01-01</th>\n",
       "      <td>0.0</td>\n",
       "    </tr>\n",
       "    <tr>\n",
       "      <th>1985-01-02</th>\n",
       "      <td>0.0</td>\n",
       "    </tr>\n",
       "    <tr>\n",
       "      <th>1985-01-03</th>\n",
       "      <td>0.0</td>\n",
       "    </tr>\n",
       "    <tr>\n",
       "      <th>1985-01-04</th>\n",
       "      <td>0.0</td>\n",
       "    </tr>\n",
       "    <tr>\n",
       "      <th>1985-01-05</th>\n",
       "      <td>0.0</td>\n",
       "    </tr>\n",
       "    <tr>\n",
       "      <th>...</th>\n",
       "      <td>...</td>\n",
       "    </tr>\n",
       "    <tr>\n",
       "      <th>1988-12-27</th>\n",
       "      <td>0.0</td>\n",
       "    </tr>\n",
       "    <tr>\n",
       "      <th>1988-12-28</th>\n",
       "      <td>0.0</td>\n",
       "    </tr>\n",
       "    <tr>\n",
       "      <th>1988-12-29</th>\n",
       "      <td>8.6</td>\n",
       "    </tr>\n",
       "    <tr>\n",
       "      <th>1988-12-30</th>\n",
       "      <td>0.0</td>\n",
       "    </tr>\n",
       "    <tr>\n",
       "      <th>1988-12-31</th>\n",
       "      <td>0.2</td>\n",
       "    </tr>\n",
       "  </tbody>\n",
       "</table>\n",
       "<p>1461 rows × 1 columns</p>\n",
       "</div>"
      ],
      "text/plain": [
       "            PRCP\n",
       "1985-01-01   0.0\n",
       "1985-01-02   0.0\n",
       "1985-01-03   0.0\n",
       "1985-01-04   0.0\n",
       "1985-01-05   0.0\n",
       "...          ...\n",
       "1988-12-27   0.0\n",
       "1988-12-28   0.0\n",
       "1988-12-29   8.6\n",
       "1988-12-30   0.0\n",
       "1988-12-31   0.2\n",
       "\n",
       "[1461 rows x 1 columns]"
      ]
     },
     "metadata": {},
     "output_type": "display_data"
    },
    {
     "data": {
      "image/png": "[encoded data removed]",
      "text/plain": [
       "<Figure size 1500x500 with 1 Axes>"
      ]
     },
     "metadata": {},
     "output_type": "display_data"
    }
   ],
   "source": [
    "# Insert information only for choosing a sub-period of the whole series\n",
    "time_start = None    # Set a date in the format 'YYYY-MM-DD' or None for plot the series from the beginning\n",
    "time_end = None      # Set a date in the format 'YYYY-MM-DD' or None for plot the series up to the end\n",
    "####################################################################\n",
    "\n",
    "# Read data series\n",
    "variable = var_chooser.value\n",
    "temp_series = full_series[[dic_vars[variable][0]]]/10\n",
    "\n",
    "# Set time range\n",
    "time_start = temp_series.first_valid_index() if time_start is None else pd.to_datetime(time_start,format='%Y-%m-%d')\n",
    "time_end = temp_series.last_valid_index() if time_end is None else pd.to_datetime(time_end,format='%Y-%m-%d')\n",
    "if time_start > time_end:\n",
    "    raise ValueError(\"time_start is larger than time_end, verify your data!\")\n",
    "time_range = pd.date_range(time_start,time_end,freq='1D')\n",
    "temp_series = temp_series.reindex(time_range)\n",
    "\n",
    "display(temp_series)\n",
    "\n",
    "# Manage plot\n",
    "ax = temp_series.plot(style='b', title=variable + ' at ' + section_name, figsize=(15,5))\n",
    "ax.set_xlabel(\"\")\n",
    "ax.set_ylabel(dic_vars[variable][1])\n",
    "ax.get_legend().remove()\n",
    "plt.show()"
   ]
  },
  {
   "cell_type": "code",
   "execution_count": null,
   "id": "3be079b9",
   "metadata": {},
   "outputs": [],
   "source": [
    "Time series can be asily managed with python for resampling and statistical operations:"
   ]
  },
  {
   "cell_type": "code",
   "execution_count": 27,
   "id": "bd52cd95",
   "metadata": {},
   "outputs": [
    {
     "data": {
      "image/png": "[encoded data removed]",
      "text/plain": [
       "<Figure size 1500x500 with 1 Axes>"
      ]
     },
     "metadata": {},
     "output_type": "display_data"
    }
   ],
   "source": [
    "# The resample frequency can be set, e.g., to annual 'Y' or monthly 'M'\n",
    "temp_resampled_max = temp_series.reindex(time_range).resample('M').max()\n",
    "temp_resampled_min = temp_series.reindex(time_range).resample('M').min()\n",
    "temp_resampled_avg = temp_series.reindex(time_range).resample('M').mean()\n",
    "\n",
    "# Manage plot\n",
    "ax = temp_resampled_max.plot(style='r', title=variable + ' at ' + section_name, figsize=(15,5))\n",
    "temp_resampled_min.plot(style='b',ax=ax)\n",
    "temp_resampled_avg.plot(style='g',ax=ax)\n",
    "ax.set_xlabel(\"\")\n",
    "ax.set_ylabel(dic_vars[variable][1])\n",
    "plt.legend(['max','min','avg'])\n",
    "plt.show()"
   ]
  },
  {
   "cell_type": "markdown",
   "id": "3cb272d9",
   "metadata": {},
   "source": [
    "---"
   ]
  },
  {
   "cell_type": "markdown",
   "id": "55f524e7-494b-4b10-a292-1b1517400d72",
   "metadata": {},
   "source": [
    "## 🌊 Flood frequency analysis"
   ]
  },
  {
   "cell_type": "markdown",
   "id": "5b33673d",
   "metadata": {},
   "source": [
    "#### Carve DEM\n",
    "\n",
    "We can use python to compute flood statistics on a discharge timeseries. Reference to *hydro-informatics.github.io* <br>\n",
    "\n",
    "Occurence of relevant (extreme) flood events can be expressed as **return period**, expressing the average recurrence interval of an event of a certain magnitude in units of time. It is the inverse of the **exceedance probability** (the likelihood of an event of a certain magnitude or higher).<br>\n",
    "A significant assumption in calculating the return period is that individual events are assumed indipendent. This means that, for any given year, the probability of a 100-year flood occurring is 1/100.\n",
    "Here below a table showing the recurrence intervals and related probabilities of occurrences.\n",
    "\n",
    "| Return Period (years) | Annual exceeding probability (%) |\n",
    "| --- | --- |\n",
    "| 2 | 50 |\n",
    "| 5 | 10 |\n",
    "| 10 | 10 |\n",
    "| 50 | 2 |\n",
    "| 100 | 1 |\n",
    "| 500 | 0.2 |"
   ]
  },
  {
   "cell_type": "markdown",
   "id": "a68918ff",
   "metadata": {},
   "source": [
    "At first we should import some useful libraries:"
   ]
  },
  {
   "cell_type": "code",
   "execution_count": 37,
   "id": "72cffdc5",
   "metadata": {},
   "outputs": [],
   "source": [
    "import numpy as np\n",
    "import pandas as pd\n",
    "import glob\n",
    "import os\n",
    "import zipfile"
   ]
  },
  {
   "cell_type": "markdown",
   "id": "744448df",
   "metadata": {},
   "source": [
    "Then, we should import the discharge data. Let's see what \"txt\" series files can be find inside the \"../sources/datasets/grdc\" folder. Further data can be downloaded from the GRDC data portal by performing a custom request (https://portal.grdc.bafg.de/applications/public.html?publicuser=PublicUser#dataDownload/Stations). The request will be evaluated by the data provider and in not much time an email with a download url will be provided. The url can be inserted and diectly analysed with this tool:"
   ]
  },
  {
   "cell_type": "code",
   "execution_count": 38,
   "id": "94b00202",
   "metadata": {
    "scrolled": true
   },
   "outputs": [
    {
     "name": "stdout",
     "output_type": "stream",
     "text": [
      "../sources/datasets/grdc/1566207_Q_Day.Cmd.txt\n",
      "../sources/datasets/grdc/1563700_Q_Day.Cmd.txt\n",
      "../sources/datasets/grdc/1563750_Q_Day.Cmd.txt\n",
      "../sources/datasets/grdc/1563800_Q_Day.Cmd.txt\n",
      "../sources/datasets/grdc/1566270_Q_Day.Cmd.txt\n",
      "../sources/datasets/grdc/1577300_Q_Day.Cmd.txt\n",
      "../sources/datasets/grdc/1578200_Q_Day.Cmd.txt\n",
      "../sources/datasets/grdc/1582700_Q_Day.Cmd.txt\n",
      "../sources/datasets/grdc/1577602_Q_Day.Cmd.txt\n",
      "../sources/datasets/grdc/1582850_Q_Day.Cmd.txt\n",
      "../sources/datasets/grdc/1563450_Q_Day.Cmd.txt\n",
      "../sources/datasets/grdc/1582800_Q_Day.Cmd.txt\n",
      "../sources/datasets/grdc/1564500_Q_Day.Cmd.txt\n",
      "../sources/datasets/grdc/1577800_Q_Day.Cmd.txt\n",
      "../sources/datasets/grdc/1577601_Q_Day.Cmd.txt\n",
      "../sources/datasets/grdc/1563900_Q_Day.Cmd.txt\n",
      "../sources/datasets/grdc/1577050_Q_Day.Cmd.txt\n",
      "../sources/datasets/grdc/1577101_Q_Day.Cmd.txt\n",
      "../sources/datasets/grdc/1577500_Q_Day.Cmd.txt\n",
      "../sources/datasets/grdc/1580300_Q_Day.Cmd.txt\n",
      "../sources/datasets/grdc/1582820_Q_Day.Cmd.txt\n",
      "../sources/datasets/grdc/1566255_Q_Day.Cmd.txt\n",
      "../sources/datasets/grdc/1566510_Q_Day.Cmd.txt\n",
      "../sources/datasets/grdc/1577600_Q_Day.Cmd.txt\n",
      "../sources/datasets/grdc/1577102_Q_Day.Cmd.txt\n",
      "../sources/datasets/grdc/1563100_Q_Day.Cmd.txt\n",
      "../sources/datasets/grdc/1563600_Q_Day.Cmd.txt\n",
      "../sources/datasets/grdc/1587200_Q_Day.Cmd.txt\n",
      "../sources/datasets/grdc/1577200_Q_Day.Cmd.txt\n",
      "../sources/datasets/grdc/1563500_Q_Day.Cmd.txt\n",
      "../sources/datasets/grdc/1578100_Q_Day.Cmd.txt\n",
      "../sources/datasets/grdc/1566206_Q_Day.Cmd.txt\n",
      "../sources/datasets/grdc/1566260_Q_Day.Cmd.txt\n",
      "../sources/datasets/grdc/1577100_Q_Day.Cmd.txt\n",
      "../sources/datasets/grdc/1566208_Q_Day.Cmd.txt\n",
      "../sources/datasets/grdc/1566501_Q_Day.Cmd.txt\n",
      "../sources/datasets/grdc/1563680_Q_Day.Cmd.txt\n",
      "../sources/datasets/grdc/1563050_Q_Day.Cmd.txt\n",
      "../sources/datasets/grdc/1563550_Q_Day.Cmd.txt\n",
      "../sources/datasets/grdc/1577603_Q_Day.Cmd.txt\n",
      "../sources/datasets/grdc/1566261_Q_Day.Cmd.txt\n",
      "../sources/datasets/grdc/1578500_Q_Day.Cmd.txt\n",
      "../sources/datasets/grdc/1566100_Q_Day.Cmd.txt\n",
      "../sources/datasets/grdc/1566520_Q_Day.Cmd.txt\n",
      "../sources/datasets/grdc/1566250_Q_Day.Cmd.txt\n",
      "../sources/datasets/grdc/1566502_Q_Day.Cmd.txt\n",
      "../sources/datasets/grdc/1577700_Q_Day.Cmd.txt\n",
      "../sources/datasets/grdc/1566500_Q_Day.Cmd.txt\n"
     ]
    }
   ],
   "source": [
    "files = glob.glob(\"../sources/datasets/grdc/*.txt\")\n",
    "print(*files, sep=\"\\n\")"
   ]
  },
  {
   "cell_type": "markdown",
   "id": "b02847ab",
   "metadata": {},
   "source": [
    "The list don't tell us much abouyt the file content, we can open one of them to understand the content of each file\n",
    "\n",
    "NOTE! Python numbering starts from 0!!:"
   ]
  },
  {
   "cell_type": "code",
   "execution_count": 39,
   "id": "18329883",
   "metadata": {
    "scrolled": true
   },
   "outputs": [
    {
     "name": "stdout",
     "output_type": "stream",
     "text": [
      "0 # Title:                 GRDC STATION DATA FILE\r\n",
      "\n",
      "1 #                        --------------\r\n",
      "\n",
      "2 # Format:                DOS-ASCII\r\n",
      "\n",
      "3 # Field delimiter:       ;\r\n",
      "\n",
      "4 # missing values are indicated by -999.000\r\n",
      "\n",
      "5 #\r\n",
      "\n",
      "6 # file generation date:  2025-08-07\r\n",
      "\n",
      "7 #\r\n",
      "\n",
      "8 # GRDC-No.:              1566207\r\n",
      "\n",
      "9 # River:                 RIVER BARO\r\n",
      "\n",
      "10 # Station:               U/SBARO-ADURA BIFURCATION\r\n",
      "\n",
      "11 # Country:               ET\r\n",
      "\n",
      "12 # Latitude (DD):       8.3333\r\n",
      "\n",
      "13 # Longitude (DD):      33.9333\r\n",
      "\n",
      "14 # Catchment area (km²):      -999.0\r\n",
      "\n",
      "15 # Altitude (m ASL):        -999.00\r\n",
      "\n",
      "16 # Next downstream station:      1566206\r\n",
      "\n",
      "17 # Remarks:               \r\n",
      "\n",
      "18 # Owner of original data: United Kingdom - Centre for Ecology and Hydrology (CEH) Wallingford\r\n",
      "\n",
      "19 #************************************************************\r\n",
      "\n",
      "20 #\r\n",
      "\n",
      "21 # Data Set Content:      MEAN DAILY DISCHARGE (Q)\r\n",
      "\n",
      "22 #                        --------------------\r\n",
      "\n",
      "23 # Unit of measure:                  m³/s\r\n",
      "\n",
      "24 # Time series:            - \r\n",
      "\n",
      "25 # No. of years:          \r\n",
      "\n",
      "26 # Last update:           2018-05-25\r\n",
      "\n",
      "27 #\r\n",
      "\n",
      "28 # Table Header:\r\n",
      "\n",
      "29 #     YYYY-MM-DD - Date\r\n",
      "\n",
      "30 #     hh:mm      - Time\r\n",
      "\n",
      "31 #     Value   - original (provided) data\r\n",
      "\n",
      "32 #************************************************************\r\n",
      "\n",
      "33 #\r\n",
      "\n",
      "34 # Data lines: 0\r\n",
      "\n",
      "35 # DATA\r\n",
      "\n",
      "36 YYYY-MM-DD;hh:mm; Value\r\n",
      "\n",
      "37 \n",
      "38 \n",
      "39 \n"
     ]
    }
   ],
   "source": [
    "# Read a preview of the file\n",
    "number_of_lines = 40\n",
    "\n",
    "with open(files[0],'rb') as file:\n",
    "    for i in np.arange(0,number_of_lines,1): \n",
    "        line = file.readline().decode('ISO-8859-1')\n",
    "        print(str(i) + ' ' + line)"
   ]
  },
  {
   "cell_type": "markdown",
   "id": "da17b990",
   "metadata": {},
   "source": [
    "The lines between 8 and 18 of each file contains all the information about the station, we can use python capability of manage different file type to summarize those information in a table:"
   ]
  },
  {
   "cell_type": "code",
   "execution_count": 36,
   "id": "c306b781",
   "metadata": {},
   "outputs": [
    {
     "data": {
      "text/html": [
       "<div>\n",
       "<style scoped>\n",
       "    .dataframe tbody tr th:only-of-type {\n",
       "        vertical-align: middle;\n",
       "    }\n",
       "\n",
       "    .dataframe tbody tr th {\n",
       "        vertical-align: top;\n",
       "    }\n",
       "\n",
       "    .dataframe thead th {\n",
       "        text-align: right;\n",
       "    }\n",
       "</style>\n",
       "<table border=\"1\" class=\"dataframe\">\n",
       "  <thead>\n",
       "    <tr style=\"text-align: right;\">\n",
       "      <th></th>\n",
       "      <th>River</th>\n",
       "      <th>Station</th>\n",
       "      <th>Country</th>\n",
       "      <th>Latitude (DD)</th>\n",
       "      <th>Longitude (DD)</th>\n",
       "      <th>Catchment area (km²)</th>\n",
       "      <th>Altitude (m ASL)</th>\n",
       "      <th>Next downstream station</th>\n",
       "      <th>Remarks</th>\n",
       "      <th>Owner of original data</th>\n",
       "    </tr>\n",
       "    <tr>\n",
       "      <th>GRDC-No.</th>\n",
       "      <th></th>\n",
       "      <th></th>\n",
       "      <th></th>\n",
       "      <th></th>\n",
       "      <th></th>\n",
       "      <th></th>\n",
       "      <th></th>\n",
       "      <th></th>\n",
       "      <th></th>\n",
       "      <th></th>\n",
       "    </tr>\n",
       "  </thead>\n",
       "  <tbody>\n",
       "    <tr>\n",
       "      <th>1566207</th>\n",
       "      <td>RIVER BARO</td>\n",
       "      <td>U/SBARO-ADURA BIFURCATION</td>\n",
       "      <td>ET</td>\n",
       "      <td>8.3333</td>\n",
       "      <td>33.9333</td>\n",
       "      <td>-999.0</td>\n",
       "      <td>-999.00</td>\n",
       "      <td>1566206</td>\n",
       "      <td></td>\n",
       "      <td>United Kingdom - Centre for Ecology and Hydrol...</td>\n",
       "    </tr>\n",
       "    <tr>\n",
       "      <th>1563700</th>\n",
       "      <td>GUDER WENZ</td>\n",
       "      <td>GUDER</td>\n",
       "      <td>ET</td>\n",
       "      <td>8.95</td>\n",
       "      <td>37.75</td>\n",
       "      <td>524.0</td>\n",
       "      <td>2050.0</td>\n",
       "      <td>1563100</td>\n",
       "      <td></td>\n",
       "      <td>Initial dataset collected in the framework of ...</td>\n",
       "    </tr>\n",
       "    <tr>\n",
       "      <th>1563750</th>\n",
       "      <td>BLUE NILE</td>\n",
       "      <td>NEAR THE LAKE TANA</td>\n",
       "      <td>ET</td>\n",
       "      <td>11.57708</td>\n",
       "      <td>37.41042</td>\n",
       "      <td>-999.0</td>\n",
       "      <td>-999.00</td>\n",
       "      <td>1563100</td>\n",
       "      <td></td>\n",
       "      <td>Initial dataset collected in the framework of ...</td>\n",
       "    </tr>\n",
       "    <tr>\n",
       "      <th>1563800</th>\n",
       "      <td>BLUE NILE</td>\n",
       "      <td>KESSIE</td>\n",
       "      <td>ET</td>\n",
       "      <td>10.06875</td>\n",
       "      <td>38.18125</td>\n",
       "      <td>65784.0</td>\n",
       "      <td>-999.00</td>\n",
       "      <td>1563750</td>\n",
       "      <td></td>\n",
       "      <td>Initial dataset collected in the framework of ...</td>\n",
       "    </tr>\n",
       "    <tr>\n",
       "      <th>1566270</th>\n",
       "      <td>MAKWAI</td>\n",
       "      <td>JUNCTION WITH ADURA</td>\n",
       "      <td>ET</td>\n",
       "      <td>8.1167</td>\n",
       "      <td>33.6167</td>\n",
       "      <td>-999.0</td>\n",
       "      <td>-999.00</td>\n",
       "      <td>1566261</td>\n",
       "      <td></td>\n",
       "      <td>United Kingdom - Centre for Ecology and Hydrol...</td>\n",
       "    </tr>\n",
       "    <tr>\n",
       "      <th>1577300</th>\n",
       "      <td>K'ELET'A WENZ</td>\n",
       "      <td>SIRE VILLAGE</td>\n",
       "      <td>ET</td>\n",
       "      <td>8.27</td>\n",
       "      <td>39.4</td>\n",
       "      <td>745.0</td>\n",
       "      <td>1560.0</td>\n",
       "      <td>1577102</td>\n",
       "      <td></td>\n",
       "      <td>Initial dataset collected in the framework of ...</td>\n",
       "    </tr>\n",
       "    <tr>\n",
       "      <th>1578200</th>\n",
       "      <td>MERIBO SHET'</td>\n",
       "      <td>NEAR ADABA BRIDGE</td>\n",
       "      <td>ET</td>\n",
       "      <td>7.0</td>\n",
       "      <td>39.33</td>\n",
       "      <td>200.0</td>\n",
       "      <td>2350.0</td>\n",
       "      <td>-</td>\n",
       "      <td></td>\n",
       "      <td>Initial dataset collected in the framework of ...</td>\n",
       "    </tr>\n",
       "    <tr>\n",
       "      <th>1582700</th>\n",
       "      <td>GIBE WENZ</td>\n",
       "      <td>NEAR ABELTI</td>\n",
       "      <td>ET</td>\n",
       "      <td>8.23</td>\n",
       "      <td>37.58</td>\n",
       "      <td>15746.0</td>\n",
       "      <td>-999.00</td>\n",
       "      <td>-</td>\n",
       "      <td></td>\n",
       "      <td>Initial dataset collected in the framework of ...</td>\n",
       "    </tr>\n",
       "    <tr>\n",
       "      <th>1577602</th>\n",
       "      <td>AWASH WENZ</td>\n",
       "      <td>ADAITU</td>\n",
       "      <td>ET</td>\n",
       "      <td>11.133333</td>\n",
       "      <td>40.783333</td>\n",
       "      <td>52835.0</td>\n",
       "      <td>-999.00</td>\n",
       "      <td>1577603</td>\n",
       "      <td></td>\n",
       "      <td>Ethiopia - Ministry of Water Resources, Hydrol...</td>\n",
       "    </tr>\n",
       "    <tr>\n",
       "      <th>1582850</th>\n",
       "      <td>GOROMBO SHET'</td>\n",
       "      <td>NEAR ENDEBER</td>\n",
       "      <td>ET</td>\n",
       "      <td>8.13</td>\n",
       "      <td>37.92</td>\n",
       "      <td>65.0</td>\n",
       "      <td>2050.0</td>\n",
       "      <td>-</td>\n",
       "      <td></td>\n",
       "      <td>Initial dataset collected in the framework of ...</td>\n",
       "    </tr>\n",
       "    <tr>\n",
       "      <th>1563450</th>\n",
       "      <td>FET'AM SHET'</td>\n",
       "      <td>TILILI</td>\n",
       "      <td>ET</td>\n",
       "      <td>10.85</td>\n",
       "      <td>37.02</td>\n",
       "      <td>282.0</td>\n",
       "      <td>2450.0</td>\n",
       "      <td>1563750</td>\n",
       "      <td></td>\n",
       "      <td>Initial dataset collected in the framework of ...</td>\n",
       "    </tr>\n",
       "    <tr>\n",
       "      <th>1582800</th>\n",
       "      <td>WEBE</td>\n",
       "      <td>NEAR WOLKITE</td>\n",
       "      <td>ET</td>\n",
       "      <td>8.25</td>\n",
       "      <td>37.77</td>\n",
       "      <td>1866.0</td>\n",
       "      <td>1700.0</td>\n",
       "      <td>-</td>\n",
       "      <td></td>\n",
       "      <td>Initial dataset collected in the framework of ...</td>\n",
       "    </tr>\n",
       "    <tr>\n",
       "      <th>1564500</th>\n",
       "      <td>TEKEZE WENZ</td>\n",
       "      <td>EMBAMADRE</td>\n",
       "      <td>ET</td>\n",
       "      <td>13.73</td>\n",
       "      <td>38.2</td>\n",
       "      <td>45694.0</td>\n",
       "      <td>-999.00</td>\n",
       "      <td>-</td>\n",
       "      <td></td>\n",
       "      <td>Initial dataset collected in the framework of ...</td>\n",
       "    </tr>\n",
       "    <tr>\n",
       "      <th>1577800</th>\n",
       "      <td>MET'I WENZ</td>\n",
       "      <td>MILLE VILLAGE</td>\n",
       "      <td>ET</td>\n",
       "      <td>11.4</td>\n",
       "      <td>40.73</td>\n",
       "      <td>4350.0</td>\n",
       "      <td>550.0</td>\n",
       "      <td>1577603</td>\n",
       "      <td></td>\n",
       "      <td>Initial dataset collected in the framework of ...</td>\n",
       "    </tr>\n",
       "    <tr>\n",
       "      <th>1577601</th>\n",
       "      <td>AWASH WENZ</td>\n",
       "      <td>MELKA SEDI</td>\n",
       "      <td>ET</td>\n",
       "      <td>9.39</td>\n",
       "      <td>40.13</td>\n",
       "      <td>21520.0</td>\n",
       "      <td>-999.00</td>\n",
       "      <td>1577602</td>\n",
       "      <td></td>\n",
       "      <td>Ethiopia - Ministry of Water Resources, Hydrol...</td>\n",
       "    </tr>\n",
       "    <tr>\n",
       "      <th>1563900</th>\n",
       "      <td>BERESSA</td>\n",
       "      <td>DEBRE BERHAN</td>\n",
       "      <td>ET</td>\n",
       "      <td>9.67</td>\n",
       "      <td>39.52</td>\n",
       "      <td>211.0</td>\n",
       "      <td>2750.0</td>\n",
       "      <td>1563750</td>\n",
       "      <td></td>\n",
       "      <td>Initial dataset collected in the framework of ...</td>\n",
       "    </tr>\n",
       "    <tr>\n",
       "      <th>1577050</th>\n",
       "      <td>HOLETA SHET'</td>\n",
       "      <td>NEAR HOLETTA</td>\n",
       "      <td>ET</td>\n",
       "      <td>9.08</td>\n",
       "      <td>38.52</td>\n",
       "      <td>119.0</td>\n",
       "      <td>1860.0</td>\n",
       "      <td>1577600</td>\n",
       "      <td></td>\n",
       "      <td>Initial dataset collected in the framework of ...</td>\n",
       "    </tr>\n",
       "    <tr>\n",
       "      <th>1577101</th>\n",
       "      <td>AWASH WENZ</td>\n",
       "      <td>HOMBOLE</td>\n",
       "      <td>ET</td>\n",
       "      <td>8.383333</td>\n",
       "      <td>38.783333</td>\n",
       "      <td>7656.0</td>\n",
       "      <td>-999.00</td>\n",
       "      <td>1577102</td>\n",
       "      <td></td>\n",
       "      <td>Ethiopia - Ministry of Water Resources, Hydrol...</td>\n",
       "    </tr>\n",
       "    <tr>\n",
       "      <th>1577500</th>\n",
       "      <td>KESSEM</td>\n",
       "      <td>AWARA MELKA</td>\n",
       "      <td>ET</td>\n",
       "      <td>9.15</td>\n",
       "      <td>39.93</td>\n",
       "      <td>3135.0</td>\n",
       "      <td>850.0</td>\n",
       "      <td>1577601</td>\n",
       "      <td></td>\n",
       "      <td>Initial dataset collected in the framework of ...</td>\n",
       "    </tr>\n",
       "    <tr>\n",
       "      <th>1580300</th>\n",
       "      <td>WEBI JUBBA</td>\n",
       "      <td>CHENEMASSA</td>\n",
       "      <td>ET</td>\n",
       "      <td>5.52</td>\n",
       "      <td>39.68</td>\n",
       "      <td>10574.0</td>\n",
       "      <td>-999.00</td>\n",
       "      <td>-</td>\n",
       "      <td></td>\n",
       "      <td>Initial dataset collected in the framework of ...</td>\n",
       "    </tr>\n",
       "    <tr>\n",
       "      <th>1582820</th>\n",
       "      <td>GOJEB WENZ</td>\n",
       "      <td>NEAR ENDEBER</td>\n",
       "      <td>ET</td>\n",
       "      <td>8.1</td>\n",
       "      <td>37.9</td>\n",
       "      <td>109.0</td>\n",
       "      <td>2050.0</td>\n",
       "      <td>-</td>\n",
       "      <td></td>\n",
       "      <td>Initial dataset collected in the framework of ...</td>\n",
       "    </tr>\n",
       "    <tr>\n",
       "      <th>1566255</th>\n",
       "      <td>RIVER BARO</td>\n",
       "      <td>SPILLOUT RIGHT (6.5KM U/S KHOR JOKAU)</td>\n",
       "      <td>ET</td>\n",
       "      <td>8.35</td>\n",
       "      <td>33.8167</td>\n",
       "      <td>-999.0</td>\n",
       "      <td>-999.00</td>\n",
       "      <td>1566205</td>\n",
       "      <td></td>\n",
       "      <td>United Kingdom - Centre for Ecology and Hydrol...</td>\n",
       "    </tr>\n",
       "    <tr>\n",
       "      <th>1566510</th>\n",
       "      <td>MACAP, KHOR</td>\n",
       "      <td>AT THE MOUTH</td>\n",
       "      <td>ET</td>\n",
       "      <td>8.4</td>\n",
       "      <td>33.2</td>\n",
       "      <td>-999.0</td>\n",
       "      <td>-999.00</td>\n",
       "      <td>1566500</td>\n",
       "      <td></td>\n",
       "      <td>United Kingdom - Centre for Ecology and Hydrol...</td>\n",
       "    </tr>\n",
       "    <tr>\n",
       "      <th>1577600</th>\n",
       "      <td>AWASH WENZ</td>\n",
       "      <td>AWASH</td>\n",
       "      <td>ET</td>\n",
       "      <td>8.98125</td>\n",
       "      <td>40.16875</td>\n",
       "      <td>18710.0</td>\n",
       "      <td>-999.00</td>\n",
       "      <td>1577601</td>\n",
       "      <td></td>\n",
       "      <td>Initial dataset collected in the framework of ...</td>\n",
       "    </tr>\n",
       "    <tr>\n",
       "      <th>1577102</th>\n",
       "      <td>AWASH WENZ</td>\n",
       "      <td>METAHARA</td>\n",
       "      <td>ET</td>\n",
       "      <td>8.85</td>\n",
       "      <td>39.85</td>\n",
       "      <td>16416.0</td>\n",
       "      <td>-999.00</td>\n",
       "      <td>1577600</td>\n",
       "      <td></td>\n",
       "      <td>Ethiopia - Ministry of Water Resources, Hydrol...</td>\n",
       "    </tr>\n",
       "    <tr>\n",
       "      <th>1563100</th>\n",
       "      <td>BLUE NILE</td>\n",
       "      <td>SUDAN BORDER</td>\n",
       "      <td>ET</td>\n",
       "      <td>11.23125</td>\n",
       "      <td>34.98958</td>\n",
       "      <td>-999.0</td>\n",
       "      <td>-999.00</td>\n",
       "      <td>1663800</td>\n",
       "      <td></td>\n",
       "      <td>Initial dataset collected in the framework of ...</td>\n",
       "    </tr>\n",
       "    <tr>\n",
       "      <th>1563600</th>\n",
       "      <td>GUDLA</td>\n",
       "      <td>NEAR DEMBCHA</td>\n",
       "      <td>ET</td>\n",
       "      <td>10.55</td>\n",
       "      <td>37.5</td>\n",
       "      <td>242.0</td>\n",
       "      <td>2050.0</td>\n",
       "      <td>1563750</td>\n",
       "      <td></td>\n",
       "      <td>Initial dataset collected in the framework of ...</td>\n",
       "    </tr>\n",
       "    <tr>\n",
       "      <th>1587200</th>\n",
       "      <td>GELANA SHET'</td>\n",
       "      <td>DIMMA TORE</td>\n",
       "      <td>ET</td>\n",
       "      <td>5.92</td>\n",
       "      <td>38.13</td>\n",
       "      <td>587.0</td>\n",
       "      <td>1190.0</td>\n",
       "      <td>-</td>\n",
       "      <td></td>\n",
       "      <td>Initial dataset collected in the framework of ...</td>\n",
       "    </tr>\n",
       "    <tr>\n",
       "      <th>1577200</th>\n",
       "      <td>MOJO WENZ</td>\n",
       "      <td>MOJO VILLAGE</td>\n",
       "      <td>ET</td>\n",
       "      <td>8.66875</td>\n",
       "      <td>39.10208</td>\n",
       "      <td>2050.0</td>\n",
       "      <td>2050.0</td>\n",
       "      <td>1577101</td>\n",
       "      <td></td>\n",
       "      <td>Initial dataset collected in the framework of ...</td>\n",
       "    </tr>\n",
       "    <tr>\n",
       "      <th>1563500</th>\n",
       "      <td>BLUE NILE</td>\n",
       "      <td>NEAR MERAWI</td>\n",
       "      <td>ET</td>\n",
       "      <td>11.37</td>\n",
       "      <td>37.03</td>\n",
       "      <td>1664.0</td>\n",
       "      <td>1900.0</td>\n",
       "      <td>1563800</td>\n",
       "      <td></td>\n",
       "      <td>Initial dataset collected in the framework of ...</td>\n",
       "    </tr>\n",
       "    <tr>\n",
       "      <th>1578100</th>\n",
       "      <td>WEBE</td>\n",
       "      <td>BELOW DODOLA BRIDGE</td>\n",
       "      <td>ET</td>\n",
       "      <td>7.02</td>\n",
       "      <td>39.03</td>\n",
       "      <td>1035.0</td>\n",
       "      <td>2480.0</td>\n",
       "      <td>-</td>\n",
       "      <td></td>\n",
       "      <td>Initial dataset collected in the framework of ...</td>\n",
       "    </tr>\n",
       "    <tr>\n",
       "      <th>1566206</th>\n",
       "      <td>RIVER BARO</td>\n",
       "      <td>D/S BARO-ADURA BIFURCATION</td>\n",
       "      <td>ET</td>\n",
       "      <td>8.367386</td>\n",
       "      <td>33.768355</td>\n",
       "      <td>-999.0</td>\n",
       "      <td>-999.00</td>\n",
       "      <td>1566205</td>\n",
       "      <td></td>\n",
       "      <td>United Kingdom - Centre for Ecology and Hydrol...</td>\n",
       "    </tr>\n",
       "    <tr>\n",
       "      <th>1566260</th>\n",
       "      <td>ADURA</td>\n",
       "      <td>AT OFFTAKE FROM BARO</td>\n",
       "      <td>ET</td>\n",
       "      <td>8.387658</td>\n",
       "      <td>33.689268</td>\n",
       "      <td>-999.0</td>\n",
       "      <td>-999.00</td>\n",
       "      <td>1566206</td>\n",
       "      <td></td>\n",
       "      <td>United Kingdom - Centre for Ecology and Hydrol...</td>\n",
       "    </tr>\n",
       "    <tr>\n",
       "      <th>1577100</th>\n",
       "      <td>AWASH WENZ</td>\n",
       "      <td>MELKA KUNTIRE</td>\n",
       "      <td>ET</td>\n",
       "      <td>8.7</td>\n",
       "      <td>38.6</td>\n",
       "      <td>4456.0</td>\n",
       "      <td>1850.0</td>\n",
       "      <td>1577101</td>\n",
       "      <td></td>\n",
       "      <td>Ethiopia - Ministry of Water Resources, Hydrol...</td>\n",
       "    </tr>\n",
       "    <tr>\n",
       "      <th>1566208</th>\n",
       "      <td>RIVER BARO</td>\n",
       "      <td>U/S KHOR MAKWAI HEAD</td>\n",
       "      <td>ET</td>\n",
       "      <td>8.040186</td>\n",
       "      <td>33.762168</td>\n",
       "      <td>-999.0</td>\n",
       "      <td>-999.00</td>\n",
       "      <td>1566207</td>\n",
       "      <td></td>\n",
       "      <td>United Kingdom - Centre for Ecology and Hydrol...</td>\n",
       "    </tr>\n",
       "    <tr>\n",
       "      <th>1566501</th>\n",
       "      <td>PIBOR</td>\n",
       "      <td>D/S MAKWAI MOUTH</td>\n",
       "      <td>ET</td>\n",
       "      <td>8.35</td>\n",
       "      <td>33.2167</td>\n",
       "      <td>-999.0</td>\n",
       "      <td>-999.00</td>\n",
       "      <td>1566500</td>\n",
       "      <td></td>\n",
       "      <td>United Kingdom - Centre for Ecology and Hydrol...</td>\n",
       "    </tr>\n",
       "    <tr>\n",
       "      <th>1563680</th>\n",
       "      <td>FATTO</td>\n",
       "      <td>NEAR GUDER</td>\n",
       "      <td>ET</td>\n",
       "      <td>8.87</td>\n",
       "      <td>37.72</td>\n",
       "      <td>96.0</td>\n",
       "      <td>2320.0</td>\n",
       "      <td>1563100</td>\n",
       "      <td></td>\n",
       "      <td>Initial dataset collected in the framework of ...</td>\n",
       "    </tr>\n",
       "    <tr>\n",
       "      <th>1563050</th>\n",
       "      <td>HOHA</td>\n",
       "      <td>NEAR ASOSA</td>\n",
       "      <td>ET</td>\n",
       "      <td>10.15</td>\n",
       "      <td>34.63</td>\n",
       "      <td>161.0</td>\n",
       "      <td>1460.0</td>\n",
       "      <td>1663800</td>\n",
       "      <td></td>\n",
       "      <td>Initial dataset collected in the framework of ...</td>\n",
       "    </tr>\n",
       "    <tr>\n",
       "      <th>1563550</th>\n",
       "      <td>NESHO SHET'</td>\n",
       "      <td>NEAR SHAMBOO</td>\n",
       "      <td>ET</td>\n",
       "      <td>9.75</td>\n",
       "      <td>37.25</td>\n",
       "      <td>322.0</td>\n",
       "      <td>2150.0</td>\n",
       "      <td>1563750</td>\n",
       "      <td></td>\n",
       "      <td>Initial dataset collected in the framework of ...</td>\n",
       "    </tr>\n",
       "    <tr>\n",
       "      <th>1577603</th>\n",
       "      <td>AWASH WENZ</td>\n",
       "      <td>TENDAHO</td>\n",
       "      <td>ET</td>\n",
       "      <td>11.683333</td>\n",
       "      <td>40.95</td>\n",
       "      <td>62088.0</td>\n",
       "      <td>-999.00</td>\n",
       "      <td>-</td>\n",
       "      <td></td>\n",
       "      <td>Ethiopia - Ministry of Water Resources, Hydrol...</td>\n",
       "    </tr>\n",
       "    <tr>\n",
       "      <th>1566261</th>\n",
       "      <td>ADURA</td>\n",
       "      <td>D/S MAKWAI MOUTH</td>\n",
       "      <td>ET</td>\n",
       "      <td>8.126885</td>\n",
       "      <td>33.542763</td>\n",
       "      <td>-999.0</td>\n",
       "      <td>-999.00</td>\n",
       "      <td>1566260</td>\n",
       "      <td></td>\n",
       "      <td>United Kingdom - Centre for Ecology and Hydrol...</td>\n",
       "    </tr>\n",
       "    <tr>\n",
       "      <th>1578500</th>\n",
       "      <td>WEBI SHABEELLE</td>\n",
       "      <td>GODE</td>\n",
       "      <td>ET</td>\n",
       "      <td>5.92291666666667</td>\n",
       "      <td>43.5520833333333</td>\n",
       "      <td>-999.0</td>\n",
       "      <td>-999.00</td>\n",
       "      <td>-</td>\n",
       "      <td></td>\n",
       "      <td>Initial dataset collected in the framework of ...</td>\n",
       "    </tr>\n",
       "    <tr>\n",
       "      <th>1566100</th>\n",
       "      <td>RIVER BARO</td>\n",
       "      <td>GAMBELLA</td>\n",
       "      <td>ET</td>\n",
       "      <td>8.25</td>\n",
       "      <td>34.58</td>\n",
       "      <td>23461.0</td>\n",
       "      <td>-999.00</td>\n",
       "      <td>1566208</td>\n",
       "      <td></td>\n",
       "      <td>United Kingdom - Centre for Ecology and Hydrol...</td>\n",
       "    </tr>\n",
       "    <tr>\n",
       "      <th>1566520</th>\n",
       "      <td>MAKWAI</td>\n",
       "      <td>AT THE MOUTH</td>\n",
       "      <td>ET</td>\n",
       "      <td>8.35</td>\n",
       "      <td>33.2167</td>\n",
       "      <td>-999.0</td>\n",
       "      <td>-999.00</td>\n",
       "      <td>1566501</td>\n",
       "      <td></td>\n",
       "      <td>United Kingdom - Centre for Ecology and Hydrol...</td>\n",
       "    </tr>\n",
       "    <tr>\n",
       "      <th>1566250</th>\n",
       "      <td>KHOR JOKAU</td>\n",
       "      <td>AT THE MOUTH</td>\n",
       "      <td>ET</td>\n",
       "      <td>8.3667</td>\n",
       "      <td>33.7833</td>\n",
       "      <td>-999.0</td>\n",
       "      <td>-999.00</td>\n",
       "      <td>1566205</td>\n",
       "      <td></td>\n",
       "      <td>United Kingdom - Centre for Ecology and Hydrol...</td>\n",
       "    </tr>\n",
       "    <tr>\n",
       "      <th>1566502</th>\n",
       "      <td>PIBOR</td>\n",
       "      <td>U/S MAKWAI MOUTH</td>\n",
       "      <td>ET</td>\n",
       "      <td>8.35</td>\n",
       "      <td>33.2167</td>\n",
       "      <td>-999.0</td>\n",
       "      <td>-999.00</td>\n",
       "      <td>1566501</td>\n",
       "      <td></td>\n",
       "      <td>United Kingdom - Centre for Ecology and Hydrol...</td>\n",
       "    </tr>\n",
       "    <tr>\n",
       "      <th>1577700</th>\n",
       "      <td>BORKENA SHET'</td>\n",
       "      <td>SWAMP OUTLET</td>\n",
       "      <td>ET</td>\n",
       "      <td>10.65</td>\n",
       "      <td>39.92</td>\n",
       "      <td>1350.0</td>\n",
       "      <td>1350.0</td>\n",
       "      <td>1577602</td>\n",
       "      <td></td>\n",
       "      <td>Initial dataset collected in the framework of ...</td>\n",
       "    </tr>\n",
       "    <tr>\n",
       "      <th>1566500</th>\n",
       "      <td>PIBOR</td>\n",
       "      <td>U/S PIBOR-BARO JUNCTION</td>\n",
       "      <td>ET</td>\n",
       "      <td>8.4333</td>\n",
       "      <td>33.2167</td>\n",
       "      <td>-999.0</td>\n",
       "      <td>-999.00</td>\n",
       "      <td>1666102</td>\n",
       "      <td></td>\n",
       "      <td>United Kingdom - Centre for Ecology and Hydrol...</td>\n",
       "    </tr>\n",
       "  </tbody>\n",
       "</table>\n",
       "</div>"
      ],
      "text/plain": [
       "                   River                                Station Country  \\\n",
       "GRDC-No.                                                                  \n",
       "1566207       RIVER BARO              U/SBARO-ADURA BIFURCATION      ET   \n",
       "1563700       GUDER WENZ                                  GUDER      ET   \n",
       "1563750        BLUE NILE                     NEAR THE LAKE TANA      ET   \n",
       "1563800        BLUE NILE                                 KESSIE      ET   \n",
       "1566270           MAKWAI                    JUNCTION WITH ADURA      ET   \n",
       "1577300    K'ELET'A WENZ                           SIRE VILLAGE      ET   \n",
       "1578200     MERIBO SHET'                      NEAR ADABA BRIDGE      ET   \n",
       "1582700        GIBE WENZ                            NEAR ABELTI      ET   \n",
       "1577602       AWASH WENZ                                 ADAITU      ET   \n",
       "1582850    GOROMBO SHET'                           NEAR ENDEBER      ET   \n",
       "1563450     FET'AM SHET'                                 TILILI      ET   \n",
       "1582800             WEBE                           NEAR WOLKITE      ET   \n",
       "1564500      TEKEZE WENZ                              EMBAMADRE      ET   \n",
       "1577800       MET'I WENZ                          MILLE VILLAGE      ET   \n",
       "1577601       AWASH WENZ                             MELKA SEDI      ET   \n",
       "1563900          BERESSA                           DEBRE BERHAN      ET   \n",
       "1577050     HOLETA SHET'                           NEAR HOLETTA      ET   \n",
       "1577101       AWASH WENZ                                HOMBOLE      ET   \n",
       "1577500           KESSEM                            AWARA MELKA      ET   \n",
       "1580300       WEBI JUBBA                             CHENEMASSA      ET   \n",
       "1582820       GOJEB WENZ                           NEAR ENDEBER      ET   \n",
       "1566255       RIVER BARO  SPILLOUT RIGHT (6.5KM U/S KHOR JOKAU)      ET   \n",
       "1566510      MACAP, KHOR                           AT THE MOUTH      ET   \n",
       "1577600       AWASH WENZ                                  AWASH      ET   \n",
       "1577102       AWASH WENZ                               METAHARA      ET   \n",
       "1563100        BLUE NILE                           SUDAN BORDER      ET   \n",
       "1563600            GUDLA                           NEAR DEMBCHA      ET   \n",
       "1587200     GELANA SHET'                             DIMMA TORE      ET   \n",
       "1577200        MOJO WENZ                           MOJO VILLAGE      ET   \n",
       "1563500        BLUE NILE                            NEAR MERAWI      ET   \n",
       "1578100             WEBE                    BELOW DODOLA BRIDGE      ET   \n",
       "1566206       RIVER BARO             D/S BARO-ADURA BIFURCATION      ET   \n",
       "1566260            ADURA                   AT OFFTAKE FROM BARO      ET   \n",
       "1577100       AWASH WENZ                          MELKA KUNTIRE      ET   \n",
       "1566208       RIVER BARO                   U/S KHOR MAKWAI HEAD      ET   \n",
       "1566501            PIBOR                       D/S MAKWAI MOUTH      ET   \n",
       "1563680            FATTO                             NEAR GUDER      ET   \n",
       "1563050             HOHA                             NEAR ASOSA      ET   \n",
       "1563550      NESHO SHET'                           NEAR SHAMBOO      ET   \n",
       "1577603       AWASH WENZ                                TENDAHO      ET   \n",
       "1566261            ADURA                       D/S MAKWAI MOUTH      ET   \n",
       "1578500   WEBI SHABEELLE                                   GODE      ET   \n",
       "1566100       RIVER BARO                               GAMBELLA      ET   \n",
       "1566520           MAKWAI                           AT THE MOUTH      ET   \n",
       "1566250       KHOR JOKAU                           AT THE MOUTH      ET   \n",
       "1566502            PIBOR                       U/S MAKWAI MOUTH      ET   \n",
       "1577700    BORKENA SHET'                           SWAMP OUTLET      ET   \n",
       "1566500            PIBOR                U/S PIBOR-BARO JUNCTION      ET   \n",
       "\n",
       "             Latitude (DD)    Longitude (DD) Catchment area (km²)  \\\n",
       "GRDC-No.                                                            \n",
       "1566207             8.3333           33.9333               -999.0   \n",
       "1563700               8.95             37.75                524.0   \n",
       "1563750           11.57708          37.41042               -999.0   \n",
       "1563800           10.06875          38.18125              65784.0   \n",
       "1566270             8.1167           33.6167               -999.0   \n",
       "1577300               8.27              39.4                745.0   \n",
       "1578200                7.0             39.33                200.0   \n",
       "1582700               8.23             37.58              15746.0   \n",
       "1577602          11.133333         40.783333              52835.0   \n",
       "1582850               8.13             37.92                 65.0   \n",
       "1563450              10.85             37.02                282.0   \n",
       "1582800               8.25             37.77               1866.0   \n",
       "1564500              13.73              38.2              45694.0   \n",
       "1577800               11.4             40.73               4350.0   \n",
       "1577601               9.39             40.13              21520.0   \n",
       "1563900               9.67             39.52                211.0   \n",
       "1577050               9.08             38.52                119.0   \n",
       "1577101           8.383333         38.783333               7656.0   \n",
       "1577500               9.15             39.93               3135.0   \n",
       "1580300               5.52             39.68              10574.0   \n",
       "1582820                8.1              37.9                109.0   \n",
       "1566255               8.35           33.8167               -999.0   \n",
       "1566510                8.4              33.2               -999.0   \n",
       "1577600            8.98125          40.16875              18710.0   \n",
       "1577102               8.85             39.85              16416.0   \n",
       "1563100           11.23125          34.98958               -999.0   \n",
       "1563600              10.55              37.5                242.0   \n",
       "1587200               5.92             38.13                587.0   \n",
       "1577200            8.66875          39.10208               2050.0   \n",
       "1563500              11.37             37.03               1664.0   \n",
       "1578100               7.02             39.03               1035.0   \n",
       "1566206           8.367386         33.768355               -999.0   \n",
       "1566260           8.387658         33.689268               -999.0   \n",
       "1577100                8.7              38.6               4456.0   \n",
       "1566208           8.040186         33.762168               -999.0   \n",
       "1566501               8.35           33.2167               -999.0   \n",
       "1563680               8.87             37.72                 96.0   \n",
       "1563050              10.15             34.63                161.0   \n",
       "1563550               9.75             37.25                322.0   \n",
       "1577603          11.683333             40.95              62088.0   \n",
       "1566261           8.126885         33.542763               -999.0   \n",
       "1578500   5.92291666666667  43.5520833333333               -999.0   \n",
       "1566100               8.25             34.58              23461.0   \n",
       "1566520               8.35           33.2167               -999.0   \n",
       "1566250             8.3667           33.7833               -999.0   \n",
       "1566502               8.35           33.2167               -999.0   \n",
       "1577700              10.65             39.92               1350.0   \n",
       "1566500             8.4333           33.2167               -999.0   \n",
       "\n",
       "         Altitude (m ASL) Next downstream station Remarks  \\\n",
       "GRDC-No.                                                    \n",
       "1566207           -999.00                 1566206           \n",
       "1563700            2050.0                 1563100           \n",
       "1563750           -999.00                 1563100           \n",
       "1563800           -999.00                 1563750           \n",
       "1566270           -999.00                 1566261           \n",
       "1577300            1560.0                 1577102           \n",
       "1578200            2350.0                       -           \n",
       "1582700           -999.00                       -           \n",
       "1577602           -999.00                 1577603           \n",
       "1582850            2050.0                       -           \n",
       "1563450            2450.0                 1563750           \n",
       "1582800            1700.0                       -           \n",
       "1564500           -999.00                       -           \n",
       "1577800             550.0                 1577603           \n",
       "1577601           -999.00                 1577602           \n",
       "1563900            2750.0                 1563750           \n",
       "1577050            1860.0                 1577600           \n",
       "1577101           -999.00                 1577102           \n",
       "1577500             850.0                 1577601           \n",
       "1580300           -999.00                       -           \n",
       "1582820            2050.0                       -           \n",
       "1566255           -999.00                 1566205           \n",
       "1566510           -999.00                 1566500           \n",
       "1577600           -999.00                 1577601           \n",
       "1577102           -999.00                 1577600           \n",
       "1563100           -999.00                 1663800           \n",
       "1563600            2050.0                 1563750           \n",
       "1587200            1190.0                       -           \n",
       "1577200            2050.0                 1577101           \n",
       "1563500            1900.0                 1563800           \n",
       "1578100            2480.0                       -           \n",
       "1566206           -999.00                 1566205           \n",
       "1566260           -999.00                 1566206           \n",
       "1577100            1850.0                 1577101           \n",
       "1566208           -999.00                 1566207           \n",
       "1566501           -999.00                 1566500           \n",
       "1563680            2320.0                 1563100           \n",
       "1563050            1460.0                 1663800           \n",
       "1563550            2150.0                 1563750           \n",
       "1577603           -999.00                       -           \n",
       "1566261           -999.00                 1566260           \n",
       "1578500           -999.00                       -           \n",
       "1566100           -999.00                 1566208           \n",
       "1566520           -999.00                 1566501           \n",
       "1566250           -999.00                 1566205           \n",
       "1566502           -999.00                 1566501           \n",
       "1577700            1350.0                 1577602           \n",
       "1566500           -999.00                 1666102           \n",
       "\n",
       "                                     Owner of original data  \n",
       "GRDC-No.                                                     \n",
       "1566207   United Kingdom - Centre for Ecology and Hydrol...  \n",
       "1563700   Initial dataset collected in the framework of ...  \n",
       "1563750   Initial dataset collected in the framework of ...  \n",
       "1563800   Initial dataset collected in the framework of ...  \n",
       "1566270   United Kingdom - Centre for Ecology and Hydrol...  \n",
       "1577300   Initial dataset collected in the framework of ...  \n",
       "1578200   Initial dataset collected in the framework of ...  \n",
       "1582700   Initial dataset collected in the framework of ...  \n",
       "1577602   Ethiopia - Ministry of Water Resources, Hydrol...  \n",
       "1582850   Initial dataset collected in the framework of ...  \n",
       "1563450   Initial dataset collected in the framework of ...  \n",
       "1582800   Initial dataset collected in the framework of ...  \n",
       "1564500   Initial dataset collected in the framework of ...  \n",
       "1577800   Initial dataset collected in the framework of ...  \n",
       "1577601   Ethiopia - Ministry of Water Resources, Hydrol...  \n",
       "1563900   Initial dataset collected in the framework of ...  \n",
       "1577050   Initial dataset collected in the framework of ...  \n",
       "1577101   Ethiopia - Ministry of Water Resources, Hydrol...  \n",
       "1577500   Initial dataset collected in the framework of ...  \n",
       "1580300   Initial dataset collected in the framework of ...  \n",
       "1582820   Initial dataset collected in the framework of ...  \n",
       "1566255   United Kingdom - Centre for Ecology and Hydrol...  \n",
       "1566510   United Kingdom - Centre for Ecology and Hydrol...  \n",
       "1577600   Initial dataset collected in the framework of ...  \n",
       "1577102   Ethiopia - Ministry of Water Resources, Hydrol...  \n",
       "1563100   Initial dataset collected in the framework of ...  \n",
       "1563600   Initial dataset collected in the framework of ...  \n",
       "1587200   Initial dataset collected in the framework of ...  \n",
       "1577200   Initial dataset collected in the framework of ...  \n",
       "1563500   Initial dataset collected in the framework of ...  \n",
       "1578100   Initial dataset collected in the framework of ...  \n",
       "1566206   United Kingdom - Centre for Ecology and Hydrol...  \n",
       "1566260   United Kingdom - Centre for Ecology and Hydrol...  \n",
       "1577100   Ethiopia - Ministry of Water Resources, Hydrol...  \n",
       "1566208   United Kingdom - Centre for Ecology and Hydrol...  \n",
       "1566501   United Kingdom - Centre for Ecology and Hydrol...  \n",
       "1563680   Initial dataset collected in the framework of ...  \n",
       "1563050   Initial dataset collected in the framework of ...  \n",
       "1563550   Initial dataset collected in the framework of ...  \n",
       "1577603   Ethiopia - Ministry of Water Resources, Hydrol...  \n",
       "1566261   United Kingdom - Centre for Ecology and Hydrol...  \n",
       "1578500   Initial dataset collected in the framework of ...  \n",
       "1566100   United Kingdom - Centre for Ecology and Hydrol...  \n",
       "1566520   United Kingdom - Centre for Ecology and Hydrol...  \n",
       "1566250   United Kingdom - Centre for Ecology and Hydrol...  \n",
       "1566502   United Kingdom - Centre for Ecology and Hydrol...  \n",
       "1577700   Initial dataset collected in the framework of ...  \n",
       "1566500   United Kingdom - Centre for Ecology and Hydrol...  "
      ]
     },
     "metadata": {},
     "output_type": "display_data"
    }
   ],
   "source": [
    "# Read the 11 lines after line 8 (Python numbering starts from 0!)\n",
    "for ind, file in enumerate(files,0):\n",
    "    data = pd.read_csv(file, skiprows=8, nrows=11, sep=\":\", encoding='ISO-8859-1', header=None, names=['cod','val'])    \n",
    "    if ind == 0:\n",
    "        list_vars = [i.replace('# ','') for i in data['cod']]\n",
    "        df_stations = pd.DataFrame(index=np.arange(0,len(files),1),columns=list_vars)\n",
    "    data['cod'] = list_vars\n",
    "    data = data.set_index(['cod'])\n",
    "    for var in list_vars:\n",
    "        df_stations.loc[ind][var] = data.loc[var].values[0].strip()\n",
    "\n",
    "df_stations = df_stations.set_index([\"GRDC-No.\"])\n",
    "display(df_stations)"
   ]
  },
  {
   "cell_type": "markdown",
   "id": "1762816f",
   "metadata": {},
   "source": [
    "We can now choose which station to analyse by providing its code to identify the related file, let's start, for example, with the AWASH WENZ at MELKA KUNTIRE (COD: 1577100):"
   ]
  },
  {
   "cell_type": "code",
   "execution_count": 42,
   "id": "4dee61d9",
   "metadata": {},
   "outputs": [
    {
     "data": {
      "text/plain": [
       "Text(0, 0.5, 'Q (m3/s)')"
      ]
     },
     "execution_count": 42,
     "metadata": {},
     "output_type": "execute_result"
    },
    {
     "data": {
      "image/png": "[encoded data removed]",
      "text/plain": [
       "<Figure size 1500x500 with 1 Axes>"
      ]
     },
     "metadata": {},
     "output_type": "display_data"
    }
   ],
   "source": [
    "# Please, specify an available station code\n",
    "station_code = '1577100'\n",
    "##############################################################################################\n",
    "\n",
    "# Read data from line 37\n",
    "df = pd.read_csv(\"../sources/datasets/grdc/\" + station_code + \"_Q_Day.Cmd.txt\",\n",
    "                 header=None,\n",
    "                 sep=\";\",\n",
    "                 skiprows=37,\n",
    "                 names=[\"Date\", \"Time\",\"Q\"],\n",
    "                 parse_dates=[0],\n",
    "                 index_col=[\"Date\"],\n",
    "    encoding=\"latin-1\")\n",
    "df['Q']=df['Q'].astype(float)\n",
    "ax = df.plot(title=df_stations.loc[station_code][\"River\"] + \" at \" + df_stations.loc[station_code][\"Station\"], figsize=(15,5))\n",
    "ax.set_ylabel('Q (m3/s)')"
   ]
  },
  {
   "cell_type": "markdown",
   "id": "14d96323",
   "metadata": {},
   "source": [
    "There are negative values in the series, that corresponds to null values, we can mange them by repalacing with \"np.nan\" that is the standard numpy null value:\n",
    "\n"
   ]
  },
  {
   "cell_type": "code",
   "execution_count": 43,
   "id": "fc6b55ad",
   "metadata": {},
   "outputs": [
    {
     "data": {
      "text/plain": [
       "Text(0, 0.5, 'Q (m3/s)')"
      ]
     },
     "execution_count": 43,
     "metadata": {},
     "output_type": "execute_result"
    },
    {
     "data": {
      "image/png": "[encoded data removed]",
      "text/plain": [
       "<Figure size 1500x500 with 1 Axes>"
      ]
     },
     "metadata": {},
     "output_type": "display_data"
    }
   ],
   "source": [
    "# Replace negative values with \"null\"\n",
    "df.loc[df['Q']<0,'Q']=np.nan\n",
    "ax = df.plot(title=df_stations.loc[station_code][\"River\"] + \" at \" + df_stations.loc[station_code][\"Station\"], figsize=(15,5))\n",
    "ax.set_ylabel('Q (m3/s)')"
   ]
  },
  {
   "cell_type": "markdown",
   "id": "186a633c",
   "metadata": {},
   "source": [
    "This is the complete timeseries: we have to select only the yearly maxima. It is quite straightforward with pandas dataframe, we can resample our dataset (which has been indexed with dates)."
   ]
  },
  {
   "cell_type": "code",
   "execution_count": 44,
   "id": "85a26387",
   "metadata": {},
   "outputs": [
    {
     "name": "stdout",
     "output_type": "stream",
     "text": [
      "     Time        Q  year\n",
      "0   --:--  224.000  1978\n",
      "1   --:--  207.000  1979\n",
      "2   --:--  266.000  1980\n",
      "12  --:--  169.851  1990\n",
      "13  --:--  225.398  1991\n",
      "14  --:--  186.504  1992\n",
      "15  --:--  307.421  1993\n",
      "16  --:--  180.862  1994\n",
      "17  --:--  167.155  1995\n",
      "18  --:--  398.626  1996\n",
      "19  --:--  163.154  1997\n",
      "20  --:--  347.518  1998\n",
      "21  --:--  289.232  1999\n",
      "22  --:--  164.060  2000\n",
      "23  --:--  258.119  2001\n",
      "24  --:--  264.301  2002\n",
      "25  --:--  264.301  2003\n",
      "26  --:--  230.376  2004\n",
      "27  --:--  309.959  2005\n",
      "28  --:--  944.125  2006\n",
      "29  --:--  430.396  2007\n",
      "30  --:--  435.912  2008\n"
     ]
    },
    {
     "data": {
      "image/png": "[encoded data removed]",
      "text/plain": [
       "<Figure size 1500x500 with 1 Axes>"
      ]
     },
     "metadata": {},
     "output_type": "display_data"
    }
   ],
   "source": [
    "# Resample using the annual maximum value\n",
    "df_ymax = df.resample(\"Y\").max()\n",
    "df_ymax[\"year\"] = df_ymax.index.year\n",
    "df_ymax.reset_index(inplace=True, drop=True)\n",
    "df_ymax = df_ymax.dropna()\n",
    "print(df_ymax)\n",
    "\n",
    "# Manage plot\n",
    "df_ymax.plot(kind='scatter',x='year',y='Q',color='red', figsize=(15,5))\n",
    "plt.show()"
   ]
  },
  {
   "cell_type": "markdown",
   "id": "1dad04d6",
   "metadata": {},
   "source": [
    "#### Return period analysis\n",
    "\n",
    "We should compute the exceedence probability Pr, and the resulting recurrence interval. Pr is defined as: \n",
    " \n",
    "$Pr_{i} = {(n-i+1)}/{(n+1)}$. Where n is the total number of observation years and i is the rank of the event."
   ]
  },
  {
   "cell_type": "code",
   "execution_count": 45,
   "id": "109f74da",
   "metadata": {},
   "outputs": [
    {
     "name": "stdout",
     "output_type": "stream",
     "text": [
      "    rank   Time        Q  year\n",
      "19     1  --:--  163.154  1997\n",
      "22     2  --:--  164.060  2000\n",
      "17     3  --:--  167.155  1995\n",
      "12     4  --:--  169.851  1990\n",
      "16     5  --:--  180.862  1994\n",
      "14     6  --:--  186.504  1992\n",
      "1      7  --:--  207.000  1979\n",
      "0      8  --:--  224.000  1978\n",
      "13     9  --:--  225.398  1991\n",
      "26    10  --:--  230.376  2004\n",
      "23    11  --:--  258.119  2001\n",
      "24    12  --:--  264.301  2002\n",
      "25    13  --:--  264.301  2003\n",
      "2     14  --:--  266.000  1980\n",
      "21    15  --:--  289.232  1999\n",
      "15    16  --:--  307.421  1993\n",
      "27    17  --:--  309.959  2005\n",
      "20    18  --:--  347.518  1998\n",
      "18    19  --:--  398.626  1996\n",
      "29    20  --:--  430.396  2007\n",
      "30    21  --:--  435.912  2008\n",
      "28    22  --:--  944.125  2006\n"
     ]
    }
   ],
   "source": [
    "# Sort in increasing order\n",
    "df_ymax_sorted = df_ymax.sort_values(by=\"Q\")\n",
    "n = df_ymax_sorted.shape[0]\n",
    "df_ymax_sorted.insert(0, \"rank\", range(1, 1 + n))\n",
    "print(df_ymax_sorted)"
   ]
  },
  {
   "cell_type": "markdown",
   "id": "ee7d3c5e",
   "metadata": {},
   "source": [
    "The exceedence probability ( pr ) can be calculated applying the formula:"
   ]
  },
  {
   "cell_type": "code",
   "execution_count": 47,
   "id": "d215a50b",
   "metadata": {},
   "outputs": [
    {
     "name": "stdout",
     "output_type": "stream",
     "text": [
      "    rank   Time        Q  year        pr\n",
      "19     1  --:--  163.154  1997  0.956522\n",
      "22     2  --:--  164.060  2000  0.913043\n",
      "17     3  --:--  167.155  1995  0.869565\n",
      "12     4  --:--  169.851  1990  0.826087\n",
      "16     5  --:--  180.862  1994  0.782609\n",
      "14     6  --:--  186.504  1992  0.739130\n",
      "1      7  --:--  207.000  1979  0.695652\n",
      "0      8  --:--  224.000  1978  0.652174\n",
      "13     9  --:--  225.398  1991  0.608696\n",
      "26    10  --:--  230.376  2004  0.565217\n",
      "23    11  --:--  258.119  2001  0.521739\n",
      "24    12  --:--  264.301  2002  0.478261\n",
      "25    13  --:--  264.301  2003  0.434783\n",
      "2     14  --:--  266.000  1980  0.391304\n",
      "21    15  --:--  289.232  1999  0.347826\n",
      "15    16  --:--  307.421  1993  0.304348\n",
      "27    17  --:--  309.959  2005  0.260870\n",
      "20    18  --:--  347.518  1998  0.217391\n",
      "18    19  --:--  398.626  1996  0.173913\n",
      "29    20  --:--  430.396  2007  0.130435\n",
      "30    21  --:--  435.912  2008  0.086957\n",
      "28    22  --:--  944.125  2006  0.043478\n"
     ]
    }
   ],
   "source": [
    "df_ymax_sorted[\"pr\"] = (n - df_ymax_sorted[\"rank\"] + 1) / (n + 1)\n",
    "print(df_ymax_sorted)"
   ]
  },
  {
   "cell_type": "markdown",
   "id": "02dc5cfc",
   "metadata": {},
   "source": [
    "The recurrence interval( return-period ) is the inverse of the probability, thus:"
   ]
  },
  {
   "cell_type": "code",
   "execution_count": 48,
   "id": "df73fbbc",
   "metadata": {},
   "outputs": [
    {
     "name": "stdout",
     "output_type": "stream",
     "text": [
      "    rank   Time        Q  year        pr  return-period\n",
      "19     1  --:--  163.154  1997  0.956522       1.045455\n",
      "22     2  --:--  164.060  2000  0.913043       1.095238\n",
      "17     3  --:--  167.155  1995  0.869565       1.150000\n",
      "12     4  --:--  169.851  1990  0.826087       1.210526\n",
      "16     5  --:--  180.862  1994  0.782609       1.277778\n",
      "14     6  --:--  186.504  1992  0.739130       1.352941\n",
      "1      7  --:--  207.000  1979  0.695652       1.437500\n",
      "0      8  --:--  224.000  1978  0.652174       1.533333\n",
      "13     9  --:--  225.398  1991  0.608696       1.642857\n",
      "26    10  --:--  230.376  2004  0.565217       1.769231\n",
      "23    11  --:--  258.119  2001  0.521739       1.916667\n",
      "24    12  --:--  264.301  2002  0.478261       2.090909\n",
      "25    13  --:--  264.301  2003  0.434783       2.300000\n",
      "2     14  --:--  266.000  1980  0.391304       2.555556\n",
      "21    15  --:--  289.232  1999  0.347826       2.875000\n",
      "15    16  --:--  307.421  1993  0.304348       3.285714\n",
      "27    17  --:--  309.959  2005  0.260870       3.833333\n",
      "20    18  --:--  347.518  1998  0.217391       4.600000\n",
      "18    19  --:--  398.626  1996  0.173913       5.750000\n",
      "29    20  --:--  430.396  2007  0.130435       7.666667\n",
      "30    21  --:--  435.912  2008  0.086957      11.500000\n",
      "28    22  --:--  944.125  2006  0.043478      23.000000\n"
     ]
    }
   ],
   "source": [
    "df_ymax_sorted[\"return-period\"] = 1 / df_ymax_sorted[\"pr\"]\n",
    "print(df_ymax_sorted)"
   ]
  },
  {
   "cell_type": "markdown",
   "id": "f1d2900c",
   "metadata": {},
   "source": [
    "Once create the table (dataframe) with all required information (Probability and Return-Period) we might plot it to visualise the recurrence interval of each observed discharge. It is worth mentioning that this analysis and the resulting plot refer only to observed values.\n",
    "\n",
    "To extrapolate recurrence interval beyond the observation period (the 1-in-100 years flood values, for instance) a prediction model is needed (Gumbel, GEV, etc..)."
   ]
  },
  {
   "cell_type": "code",
   "execution_count": 50,
   "id": "b0404c19",
   "metadata": {},
   "outputs": [
    {
     "data": {
      "text/plain": [
       "<matplotlib.axes._subplots.AxesSubplot at 0x70fc9c93e160>"
      ]
     },
     "execution_count": 50,
     "metadata": {},
     "output_type": "execute_result"
    },
    {
     "data": {
      "image/png": "[encoded data removed]",
      "text/plain": [
       "<Figure size 1500x1000 with 1 Axes>"
      ]
     },
     "metadata": {},
     "output_type": "display_data"
    }
   ],
   "source": [
    "df_ymax_sorted.plot.scatter(y=\"Q\",\n",
    "                         x=\"return-period\",\n",
    "                         title=\"Return period [years] \",\n",
    "                         color='blue',\n",
    "                         grid=True,\n",
    "                         fontsize=14,\n",
    "                         logy=false,\n",
    "                         label=\"Sorted values\",\n",
    "                         figsize=(15,10))"
   ]
  },
  {
   "cell_type": "markdown",
   "id": "f854e602",
   "metadata": {},
   "source": [
    "## 🎉 That is for this brief practical introduction to Python!"
   ]
  },
  {
   "cell_type": "code",
   "execution_count": null,
   "id": "95e34c25",
   "metadata": {},
   "outputs": [],
   "source": []
  }
 ],
 "metadata": {
  "kernelspec": {
   "display_name": "Python 3 (ipykernel)",
   "language": "python",
   "name": "python3"
  },
  "language_info": {
   "codemirror_mode": {
    "name": "ipython",
    "version": 3
   },
   "file_extension": ".py",
   "mimetype": "text/x-python",
   "name": "python",
   "nbconvert_exporter": "python",
   "pygments_lexer": "ipython3",
   "version": "3.8.10"
  }
 },
 "nbformat": 4,
 "nbformat_minor": 5
}
